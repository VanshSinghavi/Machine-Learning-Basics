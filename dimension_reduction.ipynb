{
 "cells": [
  {
   "cell_type": "markdown",
   "id": "d522105f",
   "metadata": {},
   "source": [
    "Reducing dimension has various advantages of it's own:\n",
    "\n",
    "    1. Can help make the model faster because less features to consider.\n",
    "\n",
    "    2. Remove noise present in the data due to unwanted features.\n",
    "\n",
    "    3. Aids visualization\n",
    "\n",
    "\n",
    "\n",
    "\n",
    "It also has some disadvantages:\n",
    "\n",
    "    1. May affect model performance adversely.\n",
    "\n",
    "    2. No one size - fits all solution."
   ]
  },
  {
   "cell_type": "code",
   "execution_count": 1,
   "id": "294bfc45",
   "metadata": {},
   "outputs": [
    {
     "data": {
      "text/plain": [
       "'\\n    Method 1: PCA (Principal Component Analysis)\\n        The idea behind PCA is to reduce the dimensionality of the data while preserving as much variance as possible.\\n        PCA identifies the directions (principal components) in which the data varies the most and projects the data onto these components.\\n        This is particularly useful for visualizing high-dimensional data in 2D or 3D space.\\n\\n        The following code shows the mathematical application for PCA.\\n'"
      ]
     },
     "execution_count": 1,
     "metadata": {},
     "output_type": "execute_result"
    }
   ],
   "source": [
    "'''\n",
    "    Method 1: PCA (Principal Component Analysis)\n",
    "        The idea behind PCA is to reduce the dimensionality of the data while preserving as much variance as possible.\n",
    "        PCA identifies the directions (principal components) in which the data varies the most and projects the data onto these components.\n",
    "        This is particularly useful for visualizing high-dimensional data in 2D or 3D space.\n",
    "\n",
    "        The following code shows the mathematical application for PCA.\n",
    "'''"
   ]
  },
  {
   "cell_type": "code",
   "execution_count": 124,
   "id": "714e2ad8",
   "metadata": {},
   "outputs": [],
   "source": [
    "import numpy as np\n",
    "from sklearn import datasets\n",
    "\n",
    "data = datasets.make_low_rank_matrix(n_samples=10000, n_features=200, effective_rank=70, tail_strength=0.1, random_state=42)\n",
    "X = data"
   ]
  },
  {
   "cell_type": "code",
   "execution_count": 125,
   "id": "19db8b74",
   "metadata": {},
   "outputs": [],
   "source": [
    "X_centered = X - np.mean(X, axis=0) # PCA assumes data is centered around the origin. Make sure to center the data first.\n",
    "U, S, Vt = np.linalg.svd(X_centered)    # SVD decomposes the centered data matrix into three matrices: U, S, and Vt as follows: X = U * S * Vt\n",
    "V = Vt.T\n",
    "c1_ = V[:, 0]\n",
    "c2_ = V[:, 1]"
   ]
  },
  {
   "cell_type": "code",
   "execution_count": 157,
   "id": "4619c010",
   "metadata": {},
   "outputs": [],
   "source": [
    "# Projecting the data onto tthe first n-principal components\n",
    "n = 3 # Number of principal components to keep\n",
    "Wd = V[:, :n] # Wd is the matrix of the first n principal components\n",
    "X_projected = X_centered.dot(Wd) # Project the data onto the first n principal components"
   ]
  },
  {
   "cell_type": "code",
   "execution_count": 127,
   "id": "8bec5c5c",
   "metadata": {},
   "outputs": [
    {
     "name": "stdout",
     "output_type": "stream",
     "text": [
      "Preserved Variance Ratio: [0.0207841  0.02077164 0.02073929 0.02069523 0.0206378 ]\n",
      "Total Variance Preserved: 0.1036280525570685\n",
      "Variance lost: 0.8963719474429315\n"
     ]
    }
   ],
   "source": [
    "# Using sklearn for PCA\n",
    "from sklearn.decomposition import PCA\n",
    "\n",
    "pca = PCA(n_components=5) # Create a PCA object with the desired number of components\n",
    "X_decomposed = pca.fit_transform(X) # Fit the PCA model to the data\n",
    "\n",
    "# Finding variance ratios\n",
    "preserved_variance_ratio = pca.explained_variance_ratio_\n",
    "total_variance_preserved = np.sum(preserved_variance_ratio)\n",
    "print(f\"Preserved Variance Ratio: {preserved_variance_ratio}\")\n",
    "print(f\"Total Variance Preserved: {total_variance_preserved}\")\n",
    "print(f\"Variance lost: {1 - total_variance_preserved}\")"
   ]
  },
  {
   "cell_type": "code",
   "execution_count": 128,
   "id": "021ab7d4",
   "metadata": {},
   "outputs": [
    {
     "name": "stdout",
     "output_type": "stream",
     "text": [
      "Optimal number of components to preserve 95% variance: 83\n"
     ]
    }
   ],
   "source": [
    "# Finding the optimal number of components\n",
    "pca = PCA()\n",
    "pca.fit(X)\n",
    "cumsum = np.cumsum(pca.explained_variance_ratio_)\n",
    "d = np.argmax(cumsum >= 0.95) + 1  # Find the number of components that preserve at least 95% of the variance\n",
    "print(f\"Optimal number of components to preserve 95% variance: {d}\")"
   ]
  },
  {
   "cell_type": "code",
   "execution_count": 122,
   "id": "adc614dd",
   "metadata": {},
   "outputs": [],
   "source": [
    "# Better way to find the optimal number of components\n",
    "pca = PCA(n_components=0.95) # Automatically select the number of components that preserve at least 95% of the variance\n",
    "X_reduced = pca.fit_transform(X) # Fit the PCA model to the data and reduce the dimensionality"
   ]
  },
  {
   "cell_type": "code",
   "execution_count": 139,
   "id": "ddfaf14f",
   "metadata": {},
   "outputs": [
    {
     "data": {
      "image/png": "[encoded data removed]",
      "text/plain": [
       "<Figure size 800x500 with 1 Axes>"
      ]
     },
     "metadata": {},
     "output_type": "display_data"
    }
   ],
   "source": [
    "# Plotting the cumulative explained variance\n",
    "import matplotlib.pyplot as plt\n",
    "plt.figure(figsize=(8, 5))\n",
    "plt.axis([0, 200, 0, 1])\n",
    "cumsum.put(0, 0)  # Insert 0 at the beginning for the cumulative sum\n",
    "plt.axhline(y=0.95, color='g', linestyle='--', xmax=d/len(cumsum), label='95% Variance')\n",
    "plt.axvline(x=d, color='g', linestyle='--', ymax=0.95, label=f'Optimal Components: {d}')\n",
    "plt.plot(cumsum, 'k-', linewidth=2)\n",
    "plt.scatter([d], [cumsum[d]], color='k', s=20)\n",
    "plt.show()"
   ]
  },
  {
   "cell_type": "markdown",
   "id": "b9dc19e4",
   "metadata": {},
   "source": [
    "Conclusion: Much of the variance can be preserved using just about 100 components (83 components can preseve ~95%)"
   ]
  },
  {
   "cell_type": "code",
   "execution_count": 141,
   "id": "5f96c187",
   "metadata": {},
   "outputs": [
    {
     "name": "stdout",
     "output_type": "stream",
     "text": [
      "Restoration Error: 0.011059430773199711\n"
     ]
    }
   ],
   "source": [
    "'''\n",
    "    Restoration error\n",
    "    The restoration error is the difference between the original data and the reconstructed data after applying PCA.\n",
    "    It can be calculated as follows:\n",
    "    restoration_error = np.linalg.norm(X - X_restored, axis=1)\n",
    "'''\n",
    "\n",
    "pca = PCA(n_components=100) # Create a PCA object with the desired number of components\n",
    "X_decomposed = pca.fit_transform(X) # Fit the PCA model to the data\n",
    "X_restored = pca.inverse_transform(X_decomposed) # Reconstruct the original data\n",
    "restoration_error = np.linalg.norm(X - X_restored, axis=1) # Calculate the restoration error\n",
    "print(f\"Restoration Error: {restoration_error.mean()}\") # Print the mean restoration error"
   ]
  },
  {
   "cell_type": "code",
   "execution_count": 143,
   "id": "dae8c145",
   "metadata": {},
   "outputs": [
    {
     "name": "stdout",
     "output_type": "stream",
     "text": [
      "Randomized Restoration Error: 0.011061815836101116\n"
     ]
    }
   ],
   "source": [
    "# Randomized PCA for faster computation\n",
    "# Just set the svd_solver to 'randomized' in the PCA object. By default, it uses 'auto'. Auto uses randomized solver when d is less than 80% of n or m. Set svd_solver to 'full' to use the full SVD solver.\n",
    "rnd_pca = PCA(n_components=100, svd_solver='randomized') # Create a randomized PCA object with the desired number of components\n",
    "X_rnd_decomposed = rnd_pca.fit_transform(X) \n",
    "X_rnd_restored = rnd_pca.inverse_transform(X_rnd_decomposed) \n",
    "rnd_restoration_error = np.linalg.norm(X - X_rnd_restored, axis=1)\n",
    "print(f\"Randomized Restoration Error: {rnd_restoration_error.mean()}\") # Much faster but only slightly less accurate than the standard PCA"
   ]
  },
  {
   "cell_type": "code",
   "execution_count": 145,
   "id": "109dc8ae",
   "metadata": {},
   "outputs": [],
   "source": [
    "# INCREMENTAL PCA\n",
    "# Incremental PCA is useful for large datasets that do not fit into memory.\n",
    "# It works by iteratively fitting the PCA model to smaller subsets (mini-batches) of the data."
   ]
  },
  {
   "cell_type": "code",
   "execution_count": 146,
   "id": "2660e87f",
   "metadata": {},
   "outputs": [],
   "source": [
    "from sklearn.decomposition import IncrementalPCA\n",
    "n_batches = 10 # Number of mini-batches\n",
    "ipca = IncrementalPCA(n_components=100) \n",
    "for batch in np.array_split(X, n_batches):\n",
    "    ipca.partial_fit(batch)\n",
    "X_reduced = ipca.transform(X)"
   ]
  },
  {
   "cell_type": "code",
   "execution_count": 155,
   "id": "0626ca77",
   "metadata": {},
   "outputs": [],
   "source": [
    "# Writing X to a file and reading it back using memmap\n",
    "with open('data.dat', 'w') as f:\n",
    "    X.astype('float32').tofile(f)  # Save the data to a file in binary format"
   ]
  },
  {
   "cell_type": "code",
   "execution_count": 160,
   "id": "bcd91ab5",
   "metadata": {},
   "outputs": [],
   "source": [
    "# Another method to split the data (file-format) into mini-batches is to use memmap\n",
    "X_data = np.memmap('datasets/data.dat', dtype='float32', mode='readonly', shape=(10000, 200)) # Load the data from a file\n",
    "n_batches = 100\n",
    "batch_size = X_data.shape[0] // n_batches  # Calculate the batch size\n",
    "inc_pca = IncrementalPCA(n_components=100, batch_size=batch_size)\n",
    "inc_pca.fit(X_data)\n",
    "X_reduced = inc_pca.transform(X_data)"
   ]
  },
  {
   "cell_type": "code",
   "execution_count": null,
   "id": "313f0507",
   "metadata": {},
   "outputs": [],
   "source": []
  }
 ],
 "metadata": {
  "kernelspec": {
   "display_name": "env",
   "language": "python",
   "name": "python3"
  },
  "language_info": {
   "codemirror_mode": {
    "name": "ipython",
    "version": 3
   },
   "file_extension": ".py",
   "mimetype": "text/x-python",
   "name": "python",
   "nbconvert_exporter": "python",
   "pygments_lexer": "ipython3",
   "version": "3.10.11"
  }
 },
 "nbformat": 4,
 "nbformat_minor": 5
}
